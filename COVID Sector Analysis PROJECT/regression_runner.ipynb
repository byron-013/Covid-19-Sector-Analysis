{
 "cells": [
  {
   "cell_type": "markdown",
   "metadata": {},
   "source": [
    "Imports"
   ]
  },
  {
   "cell_type": "code",
   "execution_count": 49,
   "metadata": {},
   "outputs": [],
   "source": [
    "import pandas as pd\n",
    "import statsmodels.api as sm\n",
    "import numpy as np\n",
    "import os\n",
    "from matplotlib import pyplot as plt\n",
    "from pandas import DataFrame as df"
   ]
  },
  {
   "cell_type": "markdown",
   "metadata": {},
   "source": [
    "Functions"
   ]
  },
  {
   "cell_type": "code",
   "execution_count": 50,
   "metadata": {},
   "outputs": [],
   "source": [
    "# Function to plot regression results\n",
    "def plot_regression_results(results, df, folder_path):\n",
    "    plots_folder_path = os.path.join(folder_path, 'plots')\n"
   ]
  },
  {
   "cell_type": "markdown",
   "metadata": {},
   "source": [
    "Main Execution"
   ]
  },
  {
   "cell_type": "code",
   "execution_count": 51,
   "metadata": {},
   "outputs": [
    {
     "name": "stdout",
     "output_type": "stream",
     "text": [
      "The results and summaries have been saved to: C:\\Users\\caliB\\Downloads\\Python Projects\\COVID PROJECT\\results\\results_summaries.txt\n",
      "The regression plots have been saved in: C:\\Users\\caliB\\Downloads\\Python Projects\\COVID PROJECT\\results\\Figures\n"
     ]
    }
   ],
   "source": [
    "# Directories configuration\n",
    "data_dir = r'C:\\Users\\{username}\\UPDATE THIS PATH TO MATCH YOURS\\COVID Sector Analysis PROJECT\\Sector_Analysis_Data\\Data'\n",
    "results_dir = r'C:\\Users\\{username}\\UPDATE THIS PATH TO MATCH YOURS\\COVID Sector Analysis PROJECT\\results'\n",
    "file_path = os.path.join(data_dir, \"Project_Data.csv\")\n",
    "figures_folder = os.path.join(results_dir, \"Figures\")\n",
    "\n",
    "# Ensure the results and figures folders exist\n",
    "os.makedirs(results_dir, exist_ok=True)\n",
    "os.makedirs(figures_folder, exist_ok=True)\n",
    "\n",
    "# Load the CSV file into a DataFrame\n",
    "df = pd.read_csv(file_path)\n",
    "\n",
    "# Lists and dictionaries setup\n",
    "portfolios = ['Information Technology', 'Real Estate', 'Materials', 'Health Care', 'Financials',\n",
    "              'Consumer Discretionary', 'Communication Services', 'Industrials', 'Consumer Staples',\n",
    "              'Energy', 'Utilities']\n",
    "\n",
    "independent_var_names = ['Days Since COVID', 'Unemployment Rate']\n",
    "\n",
    "# Initialize results dictionary\n",
    "results = {}\n",
    "\n",
    "# Perform all regressions including the specified third regression first\n",
    "third_regression_vars = {\n",
    "    'dependent_var': 'Unemployment Rate',\n",
    "    'independent_var': 'Days Since COVID'\n",
    "}\n",
    "X = sm.add_constant(df[third_regression_vars['independent_var']])\n",
    "y = df[third_regression_vars['dependent_var']]\n",
    "model_third = sm.OLS(y, X).fit(cov_type='HC3')\n",
    "results[(third_regression_vars['dependent_var'], third_regression_vars['independent_var'])] = {'model': model_third}\n",
    "\n",
    "# Continue with other regressions as previously defined\n",
    "for portfolio in portfolios:\n",
    "    for independent_var_name in independent_var_names:\n",
    "        X = sm.add_constant(df[independent_var_name])\n",
    "        y = df[portfolio]\n",
    "        model = sm.OLS(y, X).fit(cov_type='HC3')\n",
    "        results[(portfolio, independent_var_name)] = {'model': model}\n",
    "\n",
    "# Save the results and summaries to the text file\n",
    "results_summary_file = os.path.join(results_dir, 'results_summaries.txt')\n",
    "\n",
    "with open(results_summary_file, 'w') as f:\n",
    "    for (dep_var, ind_var), detail in results.items():\n",
    "        model = detail['model']\n",
    "        f.write(f\"Summary for model with Dependent: {dep_var} and Independent: {ind_var} variables:\\n\")\n",
    "        f.write(model.summary().as_text())\n",
    "        f.write(\"\\n\\n\")\n",
    "\n",
    "# Plot and save figures for all regressions\n",
    "for (dep_var, ind_var), detail in results.items():\n",
    "    plt.figure(figsize=(8, 5))\n",
    "    model = detail['model']\n",
    "    X = df[ind_var] if dep_var != 'Unemployment Rate' else sm.add_constant(df[ind_var])  # Adjust for the third regression\n",
    "    y_actual = df[dep_var]\n",
    "    plt.scatter(X[ind_var] if dep_var == 'Unemployment Rate' else X, y_actual, alpha=0.5, label=\"Actual Data\")\n",
    "\n",
    "    if dep_var == 'Unemployment Rate':  # Adjust for the third regression\n",
    "        sorted_indices = X[ind_var].argsort()\n",
    "    else:\n",
    "        sorted_indices = X.argsort()\n",
    "    \n",
    "    X_sorted = X.iloc[sorted_indices]\n",
    "    y_fitted_sorted = model.fittedvalues.iloc[sorted_indices]\n",
    "    plt.plot(X_sorted[ind_var] if dep_var == 'Unemployment Rate' else X_sorted, y_fitted_sorted, 'r-', alpha=0.7, label=\"Fitted Line\")\n",
    "    plt.xlabel(ind_var)\n",
    "    plt.ylabel(dep_var)\n",
    "    plt.title(f'Regression Analysis: {dep_var} vs {ind_var}')\n",
    "    plt.legend()\n",
    "\n",
    "    # Saving the plot\n",
    "    plot_filename = f'{dep_var.replace(\" \", \"_\")}_VS_{ind_var.replace(\" \", \"_\")}.png'\n",
    "    plot_path = os.path.join(figures_folder, plot_filename)\n",
    "    plt.savefig(plot_path)\n",
    "    plt.close()\n",
    "\n",
    "print(f\"The results and summaries have been saved to: {results_summary_file}\")\n",
    "print(f\"The regression plots have been saved in: {figures_folder}\")"
   ]
  }
 ],
 "metadata": {
  "kernelspec": {
   "display_name": "Python 3",
   "language": "python",
   "name": "python3"
  },
  "language_info": {
   "codemirror_mode": {
    "name": "ipython",
    "version": 3
   },
   "file_extension": ".py",
   "mimetype": "text/x-python",
   "name": "python",
   "nbconvert_exporter": "python",
   "pygments_lexer": "ipython3",
   "version": "3.12.3"
  }
 },
 "nbformat": 4,
 "nbformat_minor": 2
}
