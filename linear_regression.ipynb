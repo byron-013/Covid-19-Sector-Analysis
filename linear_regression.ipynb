{
 "cells": [
  {
   "cell_type": "code",
   "execution_count": 1,
   "metadata": {},
   "outputs": [],
   "source": [
    "from matplotlib import pyplot as p\n",
    "from random import SystemRandom\n",
    "from typing import Iterable"
   ]
  },
  {
   "cell_type": "code",
   "execution_count": 2,
   "metadata": {},
   "outputs": [],
   "source": [
    "# Instantiation of the random number generator class\n",
    "rand = SystemRandom()\n",
    "\n",
    "# Type alias for representing n-space vector data-points\n",
    "type VectorN = Iterable[float]\n",
    "\n",
    "# Constant that stores the dimensionality of the data-space\n",
    "DIMENSIONALITY = 2\n",
    "\n",
    "SLOPE = rand.random()\n",
    "INTERCEPT = rand.uniform(0, 100)\n",
    "\n",
    "\n",
    "original_line: list[VectorN] = [\n",
    "    (x, x * SLOPE + INTERCEPT)\n",
    "    for x in range(100)\n",
    "]\n",
    "\n",
    "observations: list[VectorN] = [\n",
    "    (x, x * SLOPE + INTERCEPT + rand.gauss(0, 10))\n",
    "    for x in range(100)\n",
    "]\n",
    "\n"
   ]
  },
  {
   "cell_type": "code",
   "execution_count": 3,
   "metadata": {},
   "outputs": [],
   "source": [
    "def Linear_Regression(\n",
    "    data_set: list[VectorN]\n",
    "):\n",
    "    from statistics import covariance, variance, mean\n",
    "    \n",
    "    def _Sum_Of_Square_Residuals(\n",
    "        data_set: list[VectorN],\n",
    "        slope: float,\n",
    "        intercept: float\n",
    "    ):\n",
    "        return sum(\n",
    "            (y - (intercept + slope * x))**2\n",
    "            for x, y in data_set\n",
    "        )\n",
    "    xs, ys = zip(*data_set)\n",
    "    \n",
    "    slope = covariance(xs, ys) / variance(xs)\n",
    "    intercept = mean(ys) - slope * mean(xs)\n",
    "    \n",
    "    return (slope, intercept)\n",
    "\n",
    "\n",
    "slope_estimate, intercept_estimate = Linear_Regression(observations)\n",
    "\n",
    "line = [\n",
    "    (x, x * slope_estimate + intercept_estimate)\n",
    "    for x in range(100)\n",
    "]\n"
   ]
  },
  {
   "cell_type": "markdown",
   "metadata": {},
   "source": [
    " Plotting the solution"
   ]
  },
  {
   "cell_type": "code",
   "execution_count": 4,
   "metadata": {},
   "outputs": [
    {
     "name": "stdout",
     "output_type": "stream",
     "text": [
      "0.5\n"
     ]
    },
    {
     "data": {
      "image/png": "[encoded data removed]",
      "text/plain": [
       "<Figure size 500x500 with 1 Axes>"
      ]
     },
     "metadata": {},
     "output_type": "display_data"
    }
   ],
   "source": [
    "p.figure(figsize=(5, 5))\n",
    "p.axis('equal')\n",
    "\n",
    "p.plot(\n",
    "    *zip(*observations),\n",
    "    'ro'\n",
    ")\n",
    "p.plot(\n",
    "    *zip(*line),\n",
    "    color='blue'\n",
    ")\n",
    "p.plot(\n",
    "    *zip(*original_line),\n",
    "    color='green'\n",
    ")\n",
    "\n",
    "xs, ys = zip(*observations)\n",
    "from statistics import variance\n",
    "print(variance([1, 2]))\n",
    "\n",
    "p.show()\n",
    "p.close()\n"
   ]
  }
 ],
 "metadata": {
  "kernelspec": {
   "display_name": "Python 3",
   "language": "python",
   "name": "python3"
  },
  "language_info": {
   "codemirror_mode": {
    "name": "ipython",
    "version": 3
   },
   "file_extension": ".py",
   "mimetype": "text/x-python",
   "name": "python",
   "nbconvert_exporter": "python",
   "pygments_lexer": "ipython3",
   "version": "3.12.3"
  }
 },
 "nbformat": 4,
 "nbformat_minor": 2
}
